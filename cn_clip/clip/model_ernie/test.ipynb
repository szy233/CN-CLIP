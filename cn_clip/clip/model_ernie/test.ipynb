{
 "cells": [
  {
   "cell_type": "code",
   "execution_count": 33,
   "outputs": [],
   "source": [
    "from cn_clip.clip.configuration_bert import BertConfig\n",
    "config = BertConfig.from_json_file('config.json')"
   ],
   "metadata": {
    "collapsed": false,
    "ExecuteTime": {
     "end_time": "2023-11-04T17:53:44.348242100Z",
     "start_time": "2023-11-04T17:53:44.336625900Z"
    }
   },
   "id": "3a6d9b374de70a31"
  },
  {
   "cell_type": "code",
   "execution_count": 34,
   "outputs": [],
   "source": [
    "from cn_clip.clip.modeling_bert import BertModel\n",
    "model = BertModel(config)"
   ],
   "metadata": {
    "collapsed": false,
    "ExecuteTime": {
     "end_time": "2023-11-04T17:53:45.422714800Z",
     "start_time": "2023-11-04T17:53:45.007572800Z"
    }
   },
   "id": "8d6db307b056fe14"
  },
  {
   "cell_type": "code",
   "execution_count": 35,
   "outputs": [],
   "source": [
    "import torch\n",
    "static_model = torch.load('new_pytorch_model.bin')"
   ],
   "metadata": {
    "collapsed": false,
    "ExecuteTime": {
     "end_time": "2023-11-04T17:53:48.786869600Z",
     "start_time": "2023-11-04T17:53:48.716093900Z"
    }
   },
   "id": "f585456c855cad3a"
  },
  {
   "cell_type": "code",
   "execution_count": 16,
   "outputs": [],
   "source": [
    "# 去除ernie的前缀，并保存为新的模型\n",
    "new_model = {}\n",
    "for k, v in static_model.items():\n",
    "    if k == 'ernie.embeddings.task_type_embeddings.weight':\n",
    "        continue\n",
    "    if k.startswith('ernie'):\n",
    "        # 替换gamma为weight， beta为bias\n",
    "        if k.endswith('gamma'):\n",
    "            k = k.replace('gamma', 'weight')\n",
    "        elif k.endswith('beta'):\n",
    "            k = k.replace('beta', 'bias')\n",
    "        # 删除前缀ernie\n",
    "        k = k.replace('ernie.', '')\n",
    "        new_model[k] = v"
   ],
   "metadata": {
    "collapsed": false,
    "ExecuteTime": {
     "end_time": "2023-11-04T17:43:11.222662700Z",
     "start_time": "2023-11-04T17:43:11.199752500Z"
    }
   },
   "id": "db16d9003eec7c86"
  },
  {
   "cell_type": "code",
   "execution_count": 36,
   "outputs": [
    {
     "data": {
      "text/plain": "<All keys matched successfully>"
     },
     "execution_count": 36,
     "metadata": {},
     "output_type": "execute_result"
    }
   ],
   "source": [
    "model.load_state_dict(static_model)"
   ],
   "metadata": {
    "collapsed": false,
    "ExecuteTime": {
     "end_time": "2023-11-04T17:53:52.381714400Z",
     "start_time": "2023-11-04T17:53:52.352084600Z"
    }
   },
   "id": "90ad7cea7c6e8a9b"
  },
  {
   "cell_type": "code",
   "execution_count": 18,
   "outputs": [],
   "source": [
    "torch.save(model.state_dict(), 'new_pytorch_model.bin')"
   ],
   "metadata": {
    "collapsed": false,
    "ExecuteTime": {
     "end_time": "2023-11-04T17:44:45.118618800Z",
     "start_time": "2023-11-04T17:44:44.951019300Z"
    }
   },
   "id": "43d9b41210e315b0"
  },
  {
   "cell_type": "code",
   "execution_count": 13,
   "outputs": [],
   "source": [
    "new_model_state_dict = torch.load('new_pytorch_model.bin')"
   ],
   "metadata": {
    "collapsed": false,
    "ExecuteTime": {
     "end_time": "2023-11-04T17:29:50.022783200Z",
     "start_time": "2023-11-04T17:29:49.963058100Z"
    }
   },
   "id": "62dbbe03d4b0c78f"
  },
  {
   "cell_type": "code",
   "execution_count": 45,
   "outputs": [],
   "source": [
    "from transformers import ErnieModel, BertTokenizer\n",
    "tokenizer = BertTokenizer.from_pretrained(\"nghuyong/ernie-3.0-mini-zh\")\n",
    "ernie = ErnieModel.from_pretrained(\"nghuyong/ernie-3.0-mini-zh\")"
   ],
   "metadata": {
    "collapsed": false,
    "ExecuteTime": {
     "end_time": "2023-11-04T18:17:33.614005400Z",
     "start_time": "2023-11-04T18:17:31.383562800Z"
    }
   },
   "id": "ac9639cda692bcbd"
  },
  {
   "cell_type": "code",
   "execution_count": 46,
   "outputs": [],
   "source": [
    "from cn_clip.clip.bert_tokenizer import FullTokenizer\n",
    "new_tokenizer = FullTokenizer(vocab_file='vocab.txt')"
   ],
   "metadata": {
    "collapsed": false,
    "ExecuteTime": {
     "end_time": "2023-11-04T18:17:56.072094Z",
     "start_time": "2023-11-04T18:17:56.026238600Z"
    }
   },
   "id": "a1960c624911b2c"
  },
  {
   "cell_type": "code",
   "execution_count": 52,
   "outputs": [],
   "source": [
    "inputs = tokenizer(\"我爱北京天安门\", return_tensors=\"pt\")\n",
    "new_inputs = [new_tokenizer.vocab['[CLS]']] + new_tokenizer.convert_tokens_to_ids(new_tokenizer.tokenize(\"我爱北京天安门\"))  + [new_tokenizer.vocab['[SEP]']]\n",
    "outputs = ernie(**inputs)\n",
    "new_outputs = model(torch.tensor([new_inputs]))"
   ],
   "metadata": {
    "collapsed": false,
    "ExecuteTime": {
     "end_time": "2023-11-04T18:40:11.554983400Z",
     "start_time": "2023-11-04T18:40:11.522260200Z"
    }
   },
   "id": "d26eb689bf21dc10"
  },
  {
   "cell_type": "code",
   "execution_count": 53,
   "outputs": [],
   "source": [
    "isEquals = torch.equal(outputs['last_hidden_state'], outputs[0])"
   ],
   "metadata": {
    "collapsed": false,
    "ExecuteTime": {
     "end_time": "2023-11-04T18:40:23.433339300Z",
     "start_time": "2023-11-04T18:40:23.408646600Z"
    }
   },
   "id": "d56fef24a0c9fa2"
  },
  {
   "cell_type": "code",
   "execution_count": 44,
   "outputs": [],
   "source": [
    "\n"
   ],
   "metadata": {
    "collapsed": false,
    "ExecuteTime": {
     "end_time": "2023-11-04T18:17:26.909882500Z",
     "start_time": "2023-11-04T18:17:26.860398300Z"
    }
   },
   "id": "7df2d000b5bf36b"
  },
  {
   "cell_type": "code",
   "execution_count": 41,
   "outputs": [
    {
     "ename": "NameError",
     "evalue": "name '__file__' is not defined",
     "output_type": "error",
     "traceback": [
      "\u001B[1;31m---------------------------------------------------------------------------\u001B[0m",
      "\u001B[1;31mNameError\u001B[0m                                 Traceback (most recent call last)",
      "Input \u001B[1;32mIn [41]\u001B[0m, in \u001B[0;36m<cell line: 2>\u001B[1;34m()\u001B[0m\n\u001B[0;32m      1\u001B[0m \u001B[38;5;28;01mimport\u001B[39;00m \u001B[38;5;21;01mos\u001B[39;00m\n\u001B[1;32m----> 2\u001B[0m os\u001B[38;5;241m.\u001B[39mpath\u001B[38;5;241m.\u001B[39mjoin(os\u001B[38;5;241m.\u001B[39mpath\u001B[38;5;241m.\u001B[39mdirname(os\u001B[38;5;241m.\u001B[39mpath\u001B[38;5;241m.\u001B[39mabspath(\u001B[38;5;18;43m__file__\u001B[39;49m)), \u001B[38;5;124m\"\u001B[39m\u001B[38;5;124mvocab.txt\u001B[39m\u001B[38;5;124m\"\u001B[39m)\n",
      "\u001B[1;31mNameError\u001B[0m: name '__file__' is not defined"
     ]
    }
   ],
   "source": [
    "import os\n",
    "os.path.join(os.path.dirname(os.path.abspath(__file__)), \"vocab.txt\")"
   ],
   "metadata": {
    "collapsed": false,
    "ExecuteTime": {
     "end_time": "2023-11-04T18:11:53.722210100Z",
     "start_time": "2023-11-04T18:11:53.705889900Z"
    }
   },
   "id": "5f751c929f2dbfb6"
  },
  {
   "cell_type": "code",
   "execution_count": null,
   "outputs": [],
   "source": [],
   "metadata": {
    "collapsed": false
   },
   "id": "757bb749eefc0605"
  }
 ],
 "metadata": {
  "kernelspec": {
   "display_name": "Python 3",
   "language": "python",
   "name": "python3"
  },
  "language_info": {
   "codemirror_mode": {
    "name": "ipython",
    "version": 2
   },
   "file_extension": ".py",
   "mimetype": "text/x-python",
   "name": "python",
   "nbconvert_exporter": "python",
   "pygments_lexer": "ipython2",
   "version": "2.7.6"
  }
 },
 "nbformat": 4,
 "nbformat_minor": 5
}
